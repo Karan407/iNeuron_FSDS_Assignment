{
 "cells": [
  {
   "cell_type": "code",
   "execution_count": 2,
   "id": "72c7c41c",
   "metadata": {},
   "outputs": [
    {
     "name": "stdout",
     "output_type": "stream",
     "text": [
      "Hello Python\n"
     ]
    }
   ],
   "source": [
    "print(\"Hello Python\")"
   ]
  },
  {
   "cell_type": "code",
   "execution_count": 3,
   "id": "4bdd68e3",
   "metadata": {},
   "outputs": [
    {
     "name": "stdout",
     "output_type": "stream",
     "text": [
      "Enter the first number6\n",
      "Enter the second number3\n",
      "The value after addition and division is\n",
      " 9 2.0\n"
     ]
    }
   ],
   "source": [
    "a=int(input(\"Enter the first number\"))\n",
    "b=int(input(\"Enter the second number\"))\n",
    "c=a+b\n",
    "d=a/b\n",
    "print(\"The value after addition and division is\\n\",c,d)"
   ]
  },
  {
   "cell_type": "code",
   "execution_count": 4,
   "id": "cfcd1e9e",
   "metadata": {},
   "outputs": [
    {
     "name": "stdout",
     "output_type": "stream",
     "text": [
      "Enter the base length of triangle6\n",
      "Enter the height of triangle3\n",
      "The area of triangle is\t 9.0\n"
     ]
    }
   ],
   "source": [
    "a=int(input(\"Enter the base length of triangle\"))\n",
    "b=int(input(\"Enter the height of triangle\"))\n",
    "c=0.5*a*b\n",
    "print(\"The area of triangle is\\t\",c)"
   ]
  },
  {
   "cell_type": "code",
   "execution_count": 6,
   "id": "159260da",
   "metadata": {},
   "outputs": [
    {
     "name": "stdout",
     "output_type": "stream",
     "text": [
      "Enter the first number2\n",
      "Enter the second number3\n",
      "Numbers before swapping 2 3\n",
      "Numbers after swapping 3 2\n"
     ]
    }
   ],
   "source": [
    "a=int(input(\"Enter the first number\"))\n",
    "b=int(input(\"Enter the second number\"))\n",
    "print(\"Numbers before swapping\",a,b)\n",
    "c=a\n",
    "a=b\n",
    "b=c\n",
    "print(\"Numbers after swapping\",a,b)"
   ]
  },
  {
   "cell_type": "code",
   "execution_count": 11,
   "id": "4e02faaf",
   "metadata": {},
   "outputs": [
    {
     "name": "stdout",
     "output_type": "stream",
     "text": [
      "9\n",
      "4\n",
      "5\n",
      "6\n",
      "1\n",
      "7\n",
      "6\n",
      "5\n",
      "5\n"
     ]
    }
   ],
   "source": [
    "import random\n",
    "l=[1,2,3,4,5,6,7,8,9]\n",
    "for i in range(9):\n",
    "    print(random.choice(l))"
   ]
  },
  {
   "cell_type": "code",
   "execution_count": null,
   "id": "868b3405",
   "metadata": {},
   "outputs": [],
   "source": []
  }
 ],
 "metadata": {
  "kernelspec": {
   "display_name": "Python 3 (ipykernel)",
   "language": "python",
   "name": "python3"
  },
  "language_info": {
   "codemirror_mode": {
    "name": "ipython",
    "version": 3
   },
   "file_extension": ".py",
   "mimetype": "text/x-python",
   "name": "python",
   "nbconvert_exporter": "python",
   "pygments_lexer": "ipython3",
   "version": "3.9.7"
  }
 },
 "nbformat": 4,
 "nbformat_minor": 5
}
