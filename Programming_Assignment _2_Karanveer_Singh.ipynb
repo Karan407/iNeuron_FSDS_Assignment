{
 "cells": [
  {
   "cell_type": "code",
   "execution_count": 1,
   "id": "f82dc697",
   "metadata": {},
   "outputs": [
    {
     "name": "stdout",
     "output_type": "stream",
     "text": [
      "enter the kilometer value2\n",
      "Value in Kilometer 2.0\n",
      "Value in Miles 1.24274238\n"
     ]
    }
   ],
   "source": [
    "#Question number 1\n",
    "n=float(input(\"enter the kilometer value\"))\n",
    "print(\"Value in Kilometer\",n)\n",
    "t=n*0.62137119\n",
    "print(\"Value in Miles\",t)"
   ]
  },
  {
   "cell_type": "code",
   "execution_count": 2,
   "id": "7095b729",
   "metadata": {},
   "outputs": [
    {
     "name": "stdout",
     "output_type": "stream",
     "text": [
      "enter the Celsius value100\n",
      "Value in Celsius 100.0\n",
      "Value in Fahrenheit 212.0\n"
     ]
    }
   ],
   "source": [
    "#Question number 2\n",
    "c=float(input(\"enter the Celsius value\"))\n",
    "print(\"Value in Celsius\",c)\n",
    "f=c*1.8+32\n",
    "print(\"Value in Fahrenheit\",f)"
   ]
  },
  {
   "cell_type": "code",
   "execution_count": 7,
   "id": "f0d22c2e",
   "metadata": {},
   "outputs": [
    {
     "name": "stdout",
     "output_type": "stream",
     "text": [
      "Enter the year2022\n",
      "                                  2022\n",
      "\n",
      "      January                   February                   March\n",
      "Mo Tu We Th Fr Sa Su      Mo Tu We Th Fr Sa Su      Mo Tu We Th Fr Sa Su\n",
      "                1  2          1  2  3  4  5  6          1  2  3  4  5  6\n",
      " 3  4  5  6  7  8  9       7  8  9 10 11 12 13       7  8  9 10 11 12 13\n",
      "10 11 12 13 14 15 16      14 15 16 17 18 19 20      14 15 16 17 18 19 20\n",
      "17 18 19 20 21 22 23      21 22 23 24 25 26 27      21 22 23 24 25 26 27\n",
      "24 25 26 27 28 29 30      28                        28 29 30 31\n",
      "31\n",
      "\n",
      "       April                      May                       June\n",
      "Mo Tu We Th Fr Sa Su      Mo Tu We Th Fr Sa Su      Mo Tu We Th Fr Sa Su\n",
      "             1  2  3                         1             1  2  3  4  5\n",
      " 4  5  6  7  8  9 10       2  3  4  5  6  7  8       6  7  8  9 10 11 12\n",
      "11 12 13 14 15 16 17       9 10 11 12 13 14 15      13 14 15 16 17 18 19\n",
      "18 19 20 21 22 23 24      16 17 18 19 20 21 22      20 21 22 23 24 25 26\n",
      "25 26 27 28 29 30         23 24 25 26 27 28 29      27 28 29 30\n",
      "                          30 31\n",
      "\n",
      "        July                     August                  September\n",
      "Mo Tu We Th Fr Sa Su      Mo Tu We Th Fr Sa Su      Mo Tu We Th Fr Sa Su\n",
      "             1  2  3       1  2  3  4  5  6  7                1  2  3  4\n",
      " 4  5  6  7  8  9 10       8  9 10 11 12 13 14       5  6  7  8  9 10 11\n",
      "11 12 13 14 15 16 17      15 16 17 18 19 20 21      12 13 14 15 16 17 18\n",
      "18 19 20 21 22 23 24      22 23 24 25 26 27 28      19 20 21 22 23 24 25\n",
      "25 26 27 28 29 30 31      29 30 31                  26 27 28 29 30\n",
      "\n",
      "      October                   November                  December\n",
      "Mo Tu We Th Fr Sa Su      Mo Tu We Th Fr Sa Su      Mo Tu We Th Fr Sa Su\n",
      "                1  2          1  2  3  4  5  6                1  2  3  4\n",
      " 3  4  5  6  7  8  9       7  8  9 10 11 12 13       5  6  7  8  9 10 11\n",
      "10 11 12 13 14 15 16      14 15 16 17 18 19 20      12 13 14 15 16 17 18\n",
      "17 18 19 20 21 22 23      21 22 23 24 25 26 27      19 20 21 22 23 24 25\n",
      "24 25 26 27 28 29 30      28 29 30                  26 27 28 29 30 31\n",
      "31\n",
      "\n"
     ]
    }
   ],
   "source": [
    "#Question number 3\n",
    "import calendar\n",
    "Year=int(input(\"Enter the year\"))\n",
    "print(calendar.calendar(Year))"
   ]
  },
  {
   "cell_type": "code",
   "execution_count": 9,
   "id": "8c967c30",
   "metadata": {},
   "outputs": [
    {
     "name": "stdout",
     "output_type": "stream",
     "text": [
      "Enter the a value2\n",
      "Enter the b value3\n",
      "Enter the c value4\n",
      "The solution is (-3-1.1989578808281798j) (-3+1.1989578808281798j)\n"
     ]
    }
   ],
   "source": [
    "#Question number 4\n",
    "import cmath as mt\n",
    "#solving equation ax2 + bx + c\n",
    "a=int(input(\"Enter the a value\"))\n",
    "b=int(input(\"Enter the b value\"))\n",
    "c=int(input(\"Enter the c value\"))\n",
    "d = b**2 - 4*a*c\n",
    "sol1= (-b - mt.sqrt(d)/(2*a))\n",
    "sol2= (-b + mt.sqrt(d)/(2*a))\n",
    "print(\"The solution is\",sol1,sol2 )"
   ]
  },
  {
   "cell_type": "code",
   "execution_count": 10,
   "id": "c36c9995",
   "metadata": {},
   "outputs": [
    {
     "name": "stdout",
     "output_type": "stream",
     "text": [
      "Enter the a value10\n",
      "Enter the b value5\n",
      "Number before swapping 10 5\n",
      "Number after swapping 5 10\n"
     ]
    }
   ],
   "source": [
    "#Question number 5\n",
    "a=int(input(\"Enter the a value\"))\n",
    "b=int(input(\"Enter the b value\"))\n",
    "print(\"Number before swapping\",a,b)\n",
    "a = a + b\n",
    "b = a - b\n",
    "a = a - b\n",
    "print(\"Number after swapping\",a,b)"
   ]
  },
  {
   "cell_type": "code",
   "execution_count": null,
   "id": "3461344e",
   "metadata": {},
   "outputs": [],
   "source": []
  }
 ],
 "metadata": {
  "kernelspec": {
   "display_name": "Python 3 (ipykernel)",
   "language": "python",
   "name": "python3"
  },
  "language_info": {
   "codemirror_mode": {
    "name": "ipython",
    "version": 3
   },
   "file_extension": ".py",
   "mimetype": "text/x-python",
   "name": "python",
   "nbconvert_exporter": "python",
   "pygments_lexer": "ipython3",
   "version": "3.9.7"
  }
 },
 "nbformat": 4,
 "nbformat_minor": 5
}
